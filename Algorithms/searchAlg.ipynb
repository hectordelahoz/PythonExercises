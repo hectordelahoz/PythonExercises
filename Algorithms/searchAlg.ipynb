{
 "cells": [
  {
   "cell_type": "markdown",
   "metadata": {},
   "source": [
    "Recursive Binary Search"
   ]
  },
  {
   "cell_type": "code",
   "execution_count": 6,
   "metadata": {},
   "outputs": [
    {
     "name": "stdout",
     "output_type": "stream",
     "text": [
      "2\n"
     ]
    }
   ],
   "source": [
    "def recursiveBinarySearch(set, init, end, key):\r\n",
    "    medium = (end - init + 1) // 2\r\n",
    "    if key == set[medium]:\r\n",
    "        return medium\r\n",
    "    elif key < set[medium]:\r\n",
    "        return recursiveBinarySearch(set, init, medium-1, key)\r\n",
    "    elif key > set[medium]:\r\n",
    "        return recursiveBinarySearch(set, medium+1, end, key)\r\n",
    "\r\n",
    "def main():\r\n",
    "    vector = [1,2,5,5,8,9,10,10]\r\n",
    "    key = 5\r\n",
    "    pos = recursiveBinarySearch(vector, 0, len(vector), key)\r\n",
    "    print(pos)\r\n",
    "\r\n",
    "if __name__ == \"__main__\":\r\n",
    "    main()"
   ]
  },
  {
   "cell_type": "markdown",
   "metadata": {},
   "source": [
    "Iterative Binary Search"
   ]
  },
  {
   "cell_type": "code",
   "execution_count": 8,
   "metadata": {},
   "outputs": [
    {
     "name": "stdout",
     "output_type": "stream",
     "text": [
      "3\n",
      "3\n"
     ]
    }
   ],
   "source": [
    "def iterativeBinarySearch(set, key):\r\n",
    "    leftLimit = 0\r\n",
    "    rightLimit = len(set) - 1\r\n",
    "       \r\n",
    "    while leftLimit <= rightLimit:\r\n",
    "        medium = (rightLimit - leftLimit) // 2\r\n",
    "        if set[medium] == key:\r\n",
    "            return medium\r\n",
    "        elif key < medium:\r\n",
    "            rightLimit = medium - 1\r\n",
    "        elif key > medium:\r\n",
    "            leftLimit = medium + 1\r\n",
    "    else:\r\n",
    "        return -1\r\n",
    "\r\n",
    "def main():\r\n",
    "    vector = [1,2,5,5,8,9,10,10]\r\n",
    "    key = 5\r\n",
    "    pos = iterativeBinarySearch(vector, key)\r\n",
    "    print(pos)\r\n",
    "\r\n",
    "if __name__ == \"__main__\":\r\n",
    "    main()"
   ]
  }
 ],
 "metadata": {
  "kernelspec": {
   "display_name": "Python 3.9.0 64-bit",
   "metadata": {
    "interpreter": {
     "hash": "fc26e6c9c6b8843bd6a459bf363497c62db82e22749c681a25fd12d6d6bc4d80"
    }
   },
   "name": "python3"
  },
  "language_info": {
   "codemirror_mode": {
    "name": "ipython",
    "version": 3
   },
   "file_extension": ".py",
   "mimetype": "text/x-python",
   "name": "python",
   "nbconvert_exporter": "python",
   "pygments_lexer": "ipython3",
   "version": "3.9.0"
  },
  "orig_nbformat": 2
 },
 "nbformat": 4,
 "nbformat_minor": 2
}