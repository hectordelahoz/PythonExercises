{
 "cells": [
  {
   "cell_type": "markdown",
   "metadata": {},
   "source": [
    "Bubble Sort"
   ]
  },
  {
   "cell_type": "code",
   "execution_count": null,
   "metadata": {},
   "outputs": [],
   "source": [
    "def bubblesort(A):\n",
    "    length = len(A)\n",
    "    for i in range(0,length-1):                 #c1 = n\n",
    "        for j in range (0, length-1-i):         #c2 = sum(n-i) with i from 0 to n-2\n",
    "            if A[j] > A [j+1]:                  #c3 = sum(n-i-1) with i from 0 to n-2\n",
    "                A[j], A[j+1] = A[j+1], A[j]     #c4 = sum(n-i-1) with i from 0 to n-2\n",
    "        print()\n",
    "    return A                                    #c5 = 1\n",
    "\n",
    "def main():\n",
    "    vector = [1,5,3,7,5,9,0,2,8]\n",
    "    bubblesort(vector)\n",
    "    print(vector)\n",
    "\n",
    "if __name__ == \"__main__\":\n",
    "    main()    "
   ]
  },
  {
   "cell_type": "markdown",
   "metadata": {},
   "source": [
    "Selection Sort"
   ]
  },
  {
   "cell_type": "code",
   "execution_count": null,
   "metadata": {},
   "outputs": [],
   "source": [
    "def select_sort(A):\n",
    "    length = len(A)                                 #c0 = 1\n",
    "    for i in range(0, length-1):                    #c1 = n\n",
    "        pos_menor = i                               #c2 = n-1\n",
    "        for j in range(i+1,length):                 #c3 = sum(n-i) with i from 0 to n-2\n",
    "            if A[j] < A[pos_menor]:                 #c4 = sum(n-i-1) with i from 0 to n-2\n",
    "                pos_menor = j                       #c5 = sum(n-i-1) with i from 0 to n-2\n",
    "        A[i],A[pos_menor] = A[pos_menor],A[i]       #c6 = n-1\n",
    "    return A                                        #c7 = 1\n",
    "    \n",
    "\n",
    "def main():\n",
    "    vector = [1,5,3,7,5,9,0,2,8]\n",
    "    select_sort(vector)\n",
    "    print(vector)\n",
    "\n",
    "\n",
    "if __name__ == \"__main__\":\n",
    "    main()"
   ]
  },
  {
   "cell_type": "markdown",
   "metadata": {},
   "source": [
    "Insertion sort"
   ]
  },
  {
   "cell_type": "code",
   "execution_count": null,
   "metadata": {},
   "outputs": [],
   "source": [
    "def insertion_sort(A):\n",
    "    length = len(A)                 #c1 = 1\n",
    "    for i in range(0,length-1):     #c2 = n\n",
    "        key = A[i+1]                #c3 = n - 1\n",
    "        j = i                       #c4 = n - 1\n",
    "        while j >= 0 and A[j]>key:  #c5 = sum(i) with i from 0 to n - 2\n",
    "            A[j+1] = A[j]           #c6 = sum(i-1) with i from 0 to n - 2\n",
    "            j -= 1                  #c7 = sum(i-1) with i from 0 to n - 2\n",
    "        A[j+1] = key                #c8 = n - 1\n",
    "    return A                        #c9 = 1\n",
    "\n",
    "def main():\n",
    "    vector = [1,5,3,7,5,9,2,0]\n",
    "    insertion_sort(vector)\n",
    "    print(vector)\n",
    "\n",
    "\n",
    "if __name__ == \"__main__\":\n",
    "    main()"
   ]
  },
  {
   "cell_type": "markdown",
   "metadata": {},
   "source": [
    "Merge two ordered arrays and the result must be ordered"
   ]
  },
  {
   "cell_type": "code",
   "execution_count": null,
   "metadata": {},
   "outputs": [],
   "source": [
    "import math\n",
    "\n",
    "def merge(inputLeft,inputRight):    \n",
    "    OutputArray = [0] * (len(inputLeft) + len(inputRight))\n",
    "    inputLeft.append(math.inf)\n",
    "    inputRight.append(math.inf)\n",
    "    counterLeft = 0\n",
    "    counterRight = 0\n",
    "    for i in range(len(OutputArray)):\n",
    "        if inputLeft[counterLeft] <= inputRight[counterRight]:\n",
    "            OutputArray[i] = inputLeft[counterLeft]\n",
    "            counterLeft += 1\n",
    "        else:\n",
    "            OutputArray[i] = inputRight[counterRight]\n",
    "            counterRight += 1\n",
    "    else:\n",
    "        return OutputArray\n",
    "\n",
    "def main():\n",
    "    A = [5,9,15,20]\n",
    "    B = [1,3,25,30]\n",
    "    C = merge(A,B)\n",
    "    print(C)\n",
    "\n",
    "if __name__ == \"__main__\":\n",
    "    main()"
   ]
  },
  {
   "cell_type": "markdown",
   "metadata": {},
   "source": [
    "Merge Sort"
   ]
  },
  {
   "cell_type": "code",
   "execution_count": null,
   "metadata": {},
   "outputs": [],
   "source": [
    "import math\n",
    "\n",
    "def merge(inputArray,startIndex,division,endIndex):\n",
    "    rightElements = division - startIndex + 1\n",
    "    leftElements = endIndex - division\n",
    "    rightArray = [0] * rightElements\n",
    "    leftArray = [0] * leftElements\n",
    "    \n",
    "    for i in range(rightElements):\n",
    "        rightArray[i] = inputArray[startIndex + i]\n",
    "    \n",
    "    for i in range(leftElements):\n",
    "        leftArray[i] = inputArray[division + 1 + i]\n",
    "\n",
    "    rightArray.append(math.inf)\n",
    "    leftArray.append(math.inf)\n",
    "    counterRight = 0\n",
    "    counterLeft = 0\n",
    "\n",
    "    for i in range(startIndex,endIndex+1):\n",
    "        if leftArray[counterLeft] <= rightArray[counterRight]:\n",
    "            inputArray[i] = leftArray[counterLeft]\n",
    "            counterLeft += 1\n",
    "        else:\n",
    "            inputArray[i] = rightArray[counterRight]\n",
    "            counterRight += 1\n",
    "    else:\n",
    "        return inputArray\n",
    "        \n",
    "\n",
    "def mergeSort(inputArray,startIndex,endIndex):\n",
    "    if(startIndex<endIndex):\n",
    "        division = (startIndex+endIndex)//2\n",
    "        mergeSort(inputArray,startIndex,division)\n",
    "        mergeSort(inputArray,division+1,endIndex)\n",
    "        merge(inputArray,startIndex,division,endIndex)\n",
    "\n",
    "def main():\n",
    "    A = [15,6,5,20] \n",
    "    mergeSort(A, 0, len(A)-1)\n",
    "    print(A)\n",
    "    \n",
    "if __name__ == \"__main__\":\n",
    "    main() "
   ]
  },
  {
   "cell_type": "markdown",
   "metadata": {},
   "source": [
    "Quick Sort"
   ]
  },
  {
   "cell_type": "code",
   "execution_count": 4,
   "metadata": {},
   "outputs": [
    {
     "name": "stdout",
     "output_type": "stream",
     "text": [
      "[12, 19, 21, 27, 28, 29, 31, 41, 44, 44, 58, 66, 76, 78, 83, 87, 88, 97, 99]\n"
     ]
    }
   ],
   "source": [
    "def partition(inputArray, start, end):\n",
    "    pivot = inputArray[start]\n",
    "    high = end\n",
    "    low = start + 1\n",
    "    \n",
    "    while True:\n",
    "        while low <= high and inputArray[high] >= pivot:\n",
    "            high -= 1\n",
    "        \n",
    "        while low <= high and inputArray[low] <= pivot:\n",
    "            low += 1\n",
    "        \n",
    "        if low < high:\n",
    "            inputArray[low], inputArray[high] = inputArray[high], inputArray[low]                    \n",
    "        else:\n",
    "            break\n",
    "    \n",
    "    inputArray[start], inputArray[high] = inputArray[high], inputArray[start]\n",
    "\n",
    "    return high\n",
    "\n",
    "def quickSort(inputArray, start, end):\n",
    "    if start >= end:\n",
    "        return\n",
    "\n",
    "    partitionPoint = partition(inputArray,start,end)\n",
    "    quickSort(inputArray, start, partitionPoint-1)\n",
    "    quickSort(inputArray, partitionPoint+1, end)\n",
    "\n",
    "    return inputArray\n",
    "\n",
    "def main():\n",
    "    A = [29,99,27,41,66,28,44,78,87,19,31,76,58,88,83,97,12,21,44] #[15,6,5,20]\n",
    "    quickSort(A, 0, len(A) - 1)\n",
    "    print(A)\n",
    "\n",
    "if __name__ == \"__main__\":\n",
    "    main()"
   ]
  }
 ],
 "metadata": {
  "kernelspec": {
   "display_name": "Python 3.9.0 64-bit",
   "language": "python",
   "name": "python3"
  },
  "language_info": {
   "codemirror_mode": {
    "name": "ipython",
    "version": 3
   },
   "file_extension": ".py",
   "mimetype": "text/x-python",
   "name": "python",
   "nbconvert_exporter": "python",
   "pygments_lexer": "ipython3",
   "version": "3.9.0"
  },
  "orig_nbformat": 2,
  "vscode": {
   "interpreter": {
    "hash": "1e4f3d1b0ba2c1adefff34b8d274c21563603710e18ad49395c89824bdbfb097"
   }
  }
 },
 "nbformat": 4,
 "nbformat_minor": 2
}
