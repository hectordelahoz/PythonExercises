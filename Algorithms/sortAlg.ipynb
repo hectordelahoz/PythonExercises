{
 "cells": [
  {
   "cell_type": "markdown",
   "metadata": {},
   "source": [
    "Bubble Sort"
   ]
  },
  {
   "cell_type": "code",
   "execution_count": 24,
   "metadata": {},
   "outputs": [
    {
     "name": "stdout",
     "output_type": "stream",
     "text": [
      "\n",
      "\n",
      "\n",
      "\n",
      "\n",
      "\n",
      "\n",
      "\n",
      "[0, 1, 2, 3, 5, 5, 7, 8, 9]\n"
     ]
    }
   ],
   "source": [
    "def bubblesort(A):\r\n",
    "    length = len(A)\r\n",
    "    for i in range(0,length-1):                 #c1 = n\r\n",
    "        for j in range (0, length-1-i):         #c2 = sum(n-i) with i from 0 to n-2\r\n",
    "            if A[j] > A [j+1]:                  #c3 = sum(n-i-1) with i from 0 to n-2\r\n",
    "                A[j], A[j+1] = A[j+1], A[j]     #c4 = sum(n-i-1) with i from 0 to n-2\r\n",
    "        print()\r\n",
    "    return A                                    #c5 = 1\r\n",
    "\r\n",
    "def main():\r\n",
    "    vector = [1,5,3,7,5,9,0,2,8]\r\n",
    "    bubblesort(vector)\r\n",
    "    print(vector)\r\n",
    "\r\n",
    "if __name__ == \"__main__\":\r\n",
    "    main()    "
   ]
  },
  {
   "cell_type": "markdown",
   "metadata": {},
   "source": [
    "Selection Sort"
   ]
  },
  {
   "cell_type": "code",
   "execution_count": 33,
   "metadata": {},
   "outputs": [
    {
     "name": "stdout",
     "output_type": "stream",
     "text": [
      "n =  9\n",
      "i =  0\n",
      "i =  1\n",
      "i =  2\n",
      "i =  3\n",
      "i =  4\n",
      "i =  5\n",
      "i =  6\n",
      "i =  7\n",
      "[0, 1, 2, 3, 5, 5, 7, 8, 9]\n"
     ]
    }
   ],
   "source": [
    "def select_sort(A):\r\n",
    "    length = len(A)                                 #c0 = 1\r\n",
    "    for i in range(0, length-1):                    #c1 = n\r\n",
    "        pos_menor = i                               #c2 = n-1\r\n",
    "        for j in range(i+1,length):                 #c3 = sum(n-i) with i from 0 to n-2\r\n",
    "            if A[j] < A[pos_menor]:                 #c4 = sum(n-i-1) with i from 0 to n-2\r\n",
    "                pos_menor = j                       #c5 = sum(n-i-1) with i from 0 to n-2\r\n",
    "        A[i],A[pos_menor] = A[pos_menor],A[i]       #c6 = n-1\r\n",
    "    return A                                        #c7 = 1\r\n",
    "    \r\n",
    "\r\n",
    "def main():\r\n",
    "    vector = [1,5,3,7,5,9,0,2,8]\r\n",
    "    select_sort(vector)\r\n",
    "    print(vector)\r\n",
    "\r\n",
    "\r\n",
    "if __name__ == \"__main__\":\r\n",
    "    main()"
   ]
  },
  {
   "cell_type": "markdown",
   "metadata": {},
   "source": [
    "Insertion sort"
   ]
  },
  {
   "cell_type": "code",
   "execution_count": 34,
   "metadata": {},
   "outputs": [
    {
     "name": "stdout",
     "output_type": "stream",
     "text": [
      "[0, 1, 2, 3, 5, 5, 7, 9]\n"
     ]
    }
   ],
   "source": [
    "def insertion_sort(A):\r\n",
    "    length = len(A)                 #c1 = 1\r\n",
    "    for i in range(0,length-1):     #c2 = n\r\n",
    "        key = A[i+1]                #c3 = n - 1\r\n",
    "        j = i                       #c4 = n - 1\r\n",
    "        while j >= 0 and A[j]>key:  #c5 = sum(i) with i from 0 to n - 2\r\n",
    "            A[j+1] = A[j]           #c6 = sum(i-1) with i from 0 to n - 2\r\n",
    "            j -= 1                  #c7 = sum(i-1) with i from 0 to n - 2\r\n",
    "        A[j+1] = key                #c8 = n - 1\r\n",
    "    return A                        #c9 = 1\r\n",
    "\r\n",
    "def main():\r\n",
    "    vector = [1,5,3,7,5,9,2,0]\r\n",
    "    insertion_sort(vector)\r\n",
    "    print(vector)\r\n",
    "\r\n",
    "\r\n",
    "if __name__ == \"__main__\":\r\n",
    "    main()"
   ]
  }
 ],
 "metadata": {
  "kernelspec": {
   "display_name": "Python 3.9.0 64-bit",
   "metadata": {
    "interpreter": {
     "hash": "fc26e6c9c6b8843bd6a459bf363497c62db82e22749c681a25fd12d6d6bc4d80"
    }
   },
   "name": "python3"
  },
  "language_info": {
   "codemirror_mode": {
    "name": "ipython",
    "version": 3
   },
   "file_extension": ".py",
   "mimetype": "text/x-python",
   "name": "python",
   "nbconvert_exporter": "python",
   "pygments_lexer": "ipython3",
   "version": "3.9.0"
  },
  "orig_nbformat": 2
 },
 "nbformat": 4,
 "nbformat_minor": 2
}