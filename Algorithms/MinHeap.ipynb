{
 "cells": [
  {
   "cell_type": "markdown",
   "metadata": {},
   "source": [
    "Minimum Heap"
   ]
  },
  {
   "cell_type": "code",
   "execution_count": 44,
   "metadata": {},
   "outputs": [
    {
     "name": "stdout",
     "output_type": "stream",
     "text": [
      "3\n",
      "None\n",
      "[2, 5, 20, 10]\n",
      "[]\n"
     ]
    }
   ],
   "source": [
    "class MinHeap:\r\n",
    "    def __init__(self):\r\n",
    "        self.data = []\r\n",
    "    \r\n",
    "    def root(self):\r\n",
    "        if len(self.data) == 0:\r\n",
    "            return None\r\n",
    "        return self.data[0]\r\n",
    "    \r\n",
    "    def insert(self, number):\r\n",
    "        self.data.append(number)\r\n",
    "        self.minHeapify(len(self.data) - 1)\r\n",
    "    \r\n",
    "    def minHeapify(self, index):\r\n",
    "        father_index = self.pai(index)\r\n",
    "        if father_index != None:\r\n",
    "            if self.data[father_index] > self.data[index]:\r\n",
    "                self.data[index], self.data[father_index] = self.data[father_index], self.data[index]\r\n",
    "                self.minHeapify(father_index)\r\n",
    "    \r\n",
    "    def remove(self, index):\r\n",
    "        if index >= len(self.data):\r\n",
    "            return None\r\n",
    "\r\n",
    "        left_son_index = self.leftSon(index)\r\n",
    "        right_son_index = self.rightSon(index)\r\n",
    "\r\n",
    "        if left_son_index == None and right_son_index == None:\r\n",
    "            self.data.pop(index)\r\n",
    "            return\r\n",
    "        \r\n",
    "        self.data[index], self.data[left_son_index] = self.data[left_son_index], self.data[index]\r\n",
    "        self.remove(left_son_index)\r\n",
    "\r\n",
    "    def pai(self, index):\r\n",
    "        if len(self.data) < 2 or index == 0:\r\n",
    "            return None\r\n",
    "        return ((index//2) + index%2) - 1\r\n",
    "    \r\n",
    "    def leftSon(self,index):\r\n",
    "        if len(self.data) < 2:\r\n",
    "            return None\r\n",
    "        \r\n",
    "        left_son_index = 2*index + 1\r\n",
    "        if left_son_index >= len(self.data):\r\n",
    "            return None\r\n",
    "        \r\n",
    "        return left_son_index\r\n",
    "    \r\n",
    "    def rightSon(self, index):\r\n",
    "        if len(self.data) < 3:\r\n",
    "            return None\r\n",
    "\r\n",
    "        left_son_index = self.leftSon(index)\r\n",
    "        if left_son_index == None or left_son_index == (len(self.data) - 1):\r\n",
    "            return None\r\n",
    "        \r\n",
    "        return left_son_index + 1\r\n",
    "\r\n",
    "def main():\r\n",
    "    myHeap = MinHeap()\r\n",
    "    myHeap.insert(10)\r\n",
    "    myHeap.insert(20)\r\n",
    "    myHeap.insert(25)\r\n",
    "    myHeap.insert(5)\r\n",
    "    myHeap.insert(2)\r\n",
    "    myHeap.remove(2)\r\n",
    "    print(myHeap.leftSon(1))\r\n",
    "    print(myHeap.rightSon(1))\r\n",
    "    print(myHeap.data)\r\n",
    "    myHeap.remove(0)\r\n",
    "    myHeap.remove(1)\r\n",
    "    myHeap.remove(1)\r\n",
    "    myHeap.remove(0)\r\n",
    "    myHeap.remove(0)\r\n",
    "    print(myHeap.data)\r\n",
    "    return\r\n",
    "\r\n",
    "if __name__ == \"__main__\":\r\n",
    "    main()\r\n"
   ]
  }
 ],
 "metadata": {
  "kernelspec": {
   "display_name": "Python 3.9.0 64-bit",
   "metadata": {
    "interpreter": {
     "hash": "fc26e6c9c6b8843bd6a459bf363497c62db82e22749c681a25fd12d6d6bc4d80"
    }
   },
   "name": "python3"
  },
  "language_info": {
   "codemirror_mode": {
    "name": "ipython",
    "version": 3
   },
   "file_extension": ".py",
   "mimetype": "text/x-python",
   "name": "python",
   "nbconvert_exporter": "python",
   "pygments_lexer": "ipython3",
   "version": "3.9.0"
  },
  "orig_nbformat": 2
 },
 "nbformat": 4,
 "nbformat_minor": 2
}